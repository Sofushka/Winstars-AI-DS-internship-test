{
 "cells": [
  {
   "cell_type": "markdown",
   "id": "63c3e11b",
   "metadata": {},
   "source": [
    "Demo of Task1\n",
    "MNIST classification with Random Forest, Feed-Forward NN, and CNN.  \n",
    "We compare preprocessing, training, accuracy, and check edge cases."
   ]
  },
  {
   "cell_type": "code",
   "execution_count": 23,
   "id": "dcf352fd",
   "metadata": {},
   "outputs": [],
   "source": [
    "import numpy as np\n",
    "import tensorflow as tf\n",
    "from sklearn.metrics import accuracy_score\n",
    "from classifiers.mnist_classifier import MnistClassifier\n"
   ]
  },
  {
   "cell_type": "markdown",
   "id": "54a3e738",
   "metadata": {},
   "source": [
    "Download MNIST dataset and normalize data"
   ]
  },
  {
   "cell_type": "code",
   "execution_count": 24,
   "id": "de72f263",
   "metadata": {},
   "outputs": [
    {
     "name": "stdout",
     "output_type": "stream",
     "text": [
      "Shapes before preprocessing:\n",
      "X_train: (60000, 28, 28) y_train: (60000,)\n",
      "X_test: (10000, 28, 28) y_test: (10000,)\n"
     ]
    }
   ],
   "source": [
    "(X_train, y_train), (X_test, y_test) = tf.keras.datasets.mnist.load_data()\n",
    "\n",
    "print(\"Shapes before preprocessing:\")\n",
    "print(\"X_train:\", X_train.shape, \"y_train:\", y_train.shape)\n",
    "print(\"X_test:\", X_test.shape, \"y_test:\", y_test.shape)\n",
    "\n",
    "X_train = X_train / 255.0\n",
    "X_test = X_test / 255.0"
   ]
  },
  {
   "cell_type": "markdown",
   "id": "d1500dc7",
   "metadata": {},
   "source": [
    "Preprocessing\n",
    "- Random Forest → flatten to `(n_samples, 784)`  \n",
    "- CNN → add channel dimension `(n_samples, 28, 28, 1)`"
   ]
  },
  {
   "cell_type": "markdown",
   "id": "84db3bfd",
   "metadata": {},
   "source": [
    "Flattened data for Random Forest"
   ]
  },
  {
   "cell_type": "code",
   "execution_count": 25,
   "id": "1724dc9b",
   "metadata": {},
   "outputs": [],
   "source": [
    "X_train_flat = X_train.reshape(len(X_train), -1)\n",
    "X_test_flat = X_test.reshape(len(X_test), -1)"
   ]
  },
  {
   "cell_type": "markdown",
   "id": "8e429f8e",
   "metadata": {},
   "source": [
    "Add new channel for CNN"
   ]
  },
  {
   "cell_type": "code",
   "execution_count": 26,
   "id": "b2a7be56",
   "metadata": {},
   "outputs": [],
   "source": [
    "X_train_cnn = X_train[..., np.newaxis]\n",
    "X_test_cnn = X_test[..., np.newaxis]"
   ]
  },
  {
   "cell_type": "markdown",
   "id": "b55fac8e",
   "metadata": {},
   "source": [
    "Random Forest"
   ]
  },
  {
   "cell_type": "code",
   "execution_count": 27,
   "id": "765bdde4",
   "metadata": {},
   "outputs": [
    {
     "name": "stdout",
     "output_type": "stream",
     "text": [
      "RF Accuracy 0.9695\n"
     ]
    }
   ],
   "source": [
    "rf_classifier = MnistClassifier('rf')\n",
    "\n",
    "rf_classifier.train(X_train_flat, y_train)\n",
    "\n",
    "y_pred_rf = rf_classifier.predict(X_test_flat)\n",
    "\n",
    "print('RF Accuracy', accuracy_score(y_test, y_pred_rf))"
   ]
  },
  {
   "cell_type": "markdown",
   "id": "9f05c23d",
   "metadata": {},
   "source": [
    "Feed-Forward Neural Network"
   ]
  },
  {
   "cell_type": "code",
   "execution_count": 28,
   "id": "e89ea751",
   "metadata": {},
   "outputs": [
    {
     "name": "stderr",
     "output_type": "stream",
     "text": [
      "c:\\Users\\Zebra\\Desktop\\Projects\\Task1\\.conda\\Lib\\site-packages\\keras\\src\\layers\\reshaping\\flatten.py:37: UserWarning: Do not pass an `input_shape`/`input_dim` argument to a layer. When using Sequential models, prefer using an `Input(shape)` object as the first layer in the model instead.\n",
      "  super().__init__(**kwargs)\n"
     ]
    },
    {
     "name": "stdout",
     "output_type": "stream",
     "text": [
      "Epoch 1/5\n",
      "\u001b[1m938/938\u001b[0m \u001b[32m━━━━━━━━━━━━━━━━━━━━\u001b[0m\u001b[37m\u001b[0m \u001b[1m5s\u001b[0m 4ms/step - accuracy: 0.9038 - loss: 0.3349\n",
      "Epoch 2/5\n",
      "\u001b[1m938/938\u001b[0m \u001b[32m━━━━━━━━━━━━━━━━━━━━\u001b[0m\u001b[37m\u001b[0m \u001b[1m5s\u001b[0m 4ms/step - accuracy: 0.9509 - loss: 0.1640\n",
      "Epoch 3/5\n",
      "\u001b[1m938/938\u001b[0m \u001b[32m━━━━━━━━━━━━━━━━━━━━\u001b[0m\u001b[37m\u001b[0m \u001b[1m3s\u001b[0m 3ms/step - accuracy: 0.9632 - loss: 0.1221\n",
      "Epoch 4/5\n",
      "\u001b[1m938/938\u001b[0m \u001b[32m━━━━━━━━━━━━━━━━━━━━\u001b[0m\u001b[37m\u001b[0m \u001b[1m3s\u001b[0m 3ms/step - accuracy: 0.9700 - loss: 0.0991\n",
      "Epoch 5/5\n",
      "\u001b[1m938/938\u001b[0m \u001b[32m━━━━━━━━━━━━━━━━━━━━\u001b[0m\u001b[37m\u001b[0m \u001b[1m3s\u001b[0m 3ms/step - accuracy: 0.9746 - loss: 0.0839\n",
      "\u001b[1m313/313\u001b[0m \u001b[32m━━━━━━━━━━━━━━━━━━━━\u001b[0m\u001b[37m\u001b[0m \u001b[1m1s\u001b[0m 2ms/step\n",
      "NN Accuracy 0.9738\n"
     ]
    }
   ],
   "source": [
    "nn_classifier = MnistClassifier('nn')\n",
    "\n",
    "nn_classifier.train(X_train, y_train)\n",
    "\n",
    "y_pred_nn = nn_classifier.predict(X_test)\n",
    "\n",
    "print('NN Accuracy', accuracy_score(y_test, y_pred_nn))"
   ]
  },
  {
   "cell_type": "markdown",
   "id": "cec2d4c1",
   "metadata": {},
   "source": [
    "Convolutional Neural Network"
   ]
  },
  {
   "cell_type": "code",
   "execution_count": 29,
   "id": "3e642952",
   "metadata": {},
   "outputs": [
    {
     "name": "stderr",
     "output_type": "stream",
     "text": [
      "c:\\Users\\Zebra\\Desktop\\Projects\\Task1\\.conda\\Lib\\site-packages\\keras\\src\\layers\\convolutional\\base_conv.py:113: UserWarning: Do not pass an `input_shape`/`input_dim` argument to a layer. When using Sequential models, prefer using an `Input(shape)` object as the first layer in the model instead.\n",
      "  super().__init__(activity_regularizer=activity_regularizer, **kwargs)\n"
     ]
    },
    {
     "name": "stdout",
     "output_type": "stream",
     "text": [
      "Epoch 1/3\n",
      "\u001b[1m469/469\u001b[0m \u001b[32m━━━━━━━━━━━━━━━━━━━━\u001b[0m\u001b[37m\u001b[0m \u001b[1m14s\u001b[0m 24ms/step - accuracy: 0.9330 - loss: 0.2320\n",
      "Epoch 2/3\n",
      "\u001b[1m469/469\u001b[0m \u001b[32m━━━━━━━━━━━━━━━━━━━━\u001b[0m\u001b[37m\u001b[0m \u001b[1m12s\u001b[0m 27ms/step - accuracy: 0.9812 - loss: 0.0618\n",
      "Epoch 3/3\n",
      "\u001b[1m469/469\u001b[0m \u001b[32m━━━━━━━━━━━━━━━━━━━━\u001b[0m\u001b[37m\u001b[0m \u001b[1m12s\u001b[0m 25ms/step - accuracy: 0.9868 - loss: 0.0435\n",
      "\u001b[1m313/313\u001b[0m \u001b[32m━━━━━━━━━━━━━━━━━━━━\u001b[0m\u001b[37m\u001b[0m \u001b[1m2s\u001b[0m 4ms/step\n",
      "CNN Accuracy 0.9867\n"
     ]
    }
   ],
   "source": [
    "cnn_classifier = MnistClassifier('cnn')\n",
    "\n",
    "cnn_classifier.train(X_train_cnn, y_train, epochs=3, batch_size=128)\n",
    "\n",
    "y_pred_cnn = cnn_classifier.predict(X_test_cnn)\n",
    "\n",
    "print('CNN Accuracy', accuracy_score(y_test, y_pred_cnn))"
   ]
  },
  {
   "cell_type": "markdown",
   "id": "de115e86",
   "metadata": {},
   "source": [
    "Edge cases\n",
    "We check unusual inputs:  \n",
    "- Random Forest: single sample, empty input  \n",
    "- Feed-Forward NN: single sample, wrong shape  \n",
    "- CNN: single sample, very small batch"
   ]
  },
  {
   "cell_type": "markdown",
   "id": "5d34f8a5",
   "metadata": {},
   "source": [
    "Random Forest: One example"
   ]
  },
  {
   "cell_type": "code",
   "execution_count": 30,
   "id": "2efeca28",
   "metadata": {},
   "outputs": [
    {
     "name": "stdout",
     "output_type": "stream",
     "text": [
      "Single sample prediction: [7]\n"
     ]
    }
   ],
   "source": [
    "pred_one = rf_classifier.predict(X_test_flat[0:1])\n",
    "print(\"Single sample prediction:\", pred_one)"
   ]
  },
  {
   "cell_type": "markdown",
   "id": "3f17fd91",
   "metadata": {},
   "source": [
    "Random Forest: Empty array"
   ]
  },
  {
   "cell_type": "code",
   "execution_count": 31,
   "id": "2a5c3dd0",
   "metadata": {},
   "outputs": [
    {
     "name": "stdout",
     "output_type": "stream",
     "text": [
      "Empty input prediction error: Found array with 0 sample(s) (shape=(0, 784)) while a minimum of 1 is required by RandomForestClassifier.\n"
     ]
    }
   ],
   "source": [
    "try:\n",
    "    pred_empty = rf_classifier.predict(np.array([]).reshape(0, 28*28))\n",
    "except Exception as e:\n",
    "    print(\"Empty input prediction error:\", e)"
   ]
  },
  {
   "cell_type": "markdown",
   "id": "cb992765",
   "metadata": {},
   "source": [
    "Feed-Forward Neural Network: One example"
   ]
  },
  {
   "cell_type": "code",
   "execution_count": 32,
   "id": "7c534716",
   "metadata": {},
   "outputs": [
    {
     "name": "stdout",
     "output_type": "stream",
     "text": [
      "\u001b[1m1/1\u001b[0m \u001b[32m━━━━━━━━━━━━━━━━━━━━\u001b[0m\u001b[37m\u001b[0m \u001b[1m0s\u001b[0m 48ms/step\n",
      "Single sample prediction: [7]\n"
     ]
    }
   ],
   "source": [
    "pred_one = nn_classifier.predict(X_test[0:1])\n",
    "print(\"Single sample prediction:\", pred_one)"
   ]
  },
  {
   "cell_type": "markdown",
   "id": "525d87de",
   "metadata": {},
   "source": [
    "Feed-Forward Neural Network: Wrong Shape"
   ]
  },
  {
   "cell_type": "code",
   "execution_count": 33,
   "id": "7af2192b",
   "metadata": {},
   "outputs": [
    {
     "name": "stdout",
     "output_type": "stream",
     "text": [
      "Wrong shape prediction error: Graph execution error:\n",
      "\n",
      "Detected at node sequential_3_1/dense_6_1/Relu defined at (most recent call last):\n",
      "  File \"<frozen runpy>\", line 198, in _run_module_as_main\n",
      "\n",
      "  File \"<frozen runpy>\", line 88, in _run_code\n",
      "\n",
      "  File \"c:\\Users\\Zebra\\Desktop\\Projects\\Task1\\.conda\\Lib\\site-packages\\ipykernel_launcher.py\", line 18, in <module>\n",
      "\n",
      "  File \"c:\\Users\\Zebra\\Desktop\\Projects\\Task1\\.conda\\Lib\\site-packages\\traitlets\\config\\application.py\", line 1075, in launch_instance\n",
      "\n",
      "  File \"c:\\Users\\Zebra\\Desktop\\Projects\\Task1\\.conda\\Lib\\site-packages\\ipykernel\\kernelapp.py\", line 739, in start\n",
      "\n",
      "  File \"c:\\Users\\Zebra\\Desktop\\Projects\\Task1\\.conda\\Lib\\site-packages\\tornado\\platform\\asyncio.py\", line 211, in start\n",
      "\n",
      "  File \"c:\\Users\\Zebra\\Desktop\\Projects\\Task1\\.conda\\Lib\\asyncio\\base_events.py\", line 608, in run_forever\n",
      "\n",
      "  File \"c:\\Users\\Zebra\\Desktop\\Projects\\Task1\\.conda\\Lib\\asyncio\\base_events.py\", line 1936, in _run_once\n",
      "\n",
      "  File \"c:\\Users\\Zebra\\Desktop\\Projects\\Task1\\.conda\\Lib\\asyncio\\events.py\", line 84, in _run\n",
      "\n",
      "  File \"c:\\Users\\Zebra\\Desktop\\Projects\\Task1\\.conda\\Lib\\site-packages\\ipykernel\\kernelbase.py\", line 519, in dispatch_queue\n",
      "\n",
      "  File \"c:\\Users\\Zebra\\Desktop\\Projects\\Task1\\.conda\\Lib\\site-packages\\ipykernel\\kernelbase.py\", line 508, in process_one\n",
      "\n",
      "  File \"c:\\Users\\Zebra\\Desktop\\Projects\\Task1\\.conda\\Lib\\site-packages\\ipykernel\\kernelbase.py\", line 400, in dispatch_shell\n",
      "\n",
      "  File \"c:\\Users\\Zebra\\Desktop\\Projects\\Task1\\.conda\\Lib\\site-packages\\ipykernel\\ipkernel.py\", line 368, in execute_request\n",
      "\n",
      "  File \"c:\\Users\\Zebra\\Desktop\\Projects\\Task1\\.conda\\Lib\\site-packages\\ipykernel\\kernelbase.py\", line 767, in execute_request\n",
      "\n",
      "  File \"c:\\Users\\Zebra\\Desktop\\Projects\\Task1\\.conda\\Lib\\site-packages\\ipykernel\\ipkernel.py\", line 455, in do_execute\n",
      "\n",
      "  File \"c:\\Users\\Zebra\\Desktop\\Projects\\Task1\\.conda\\Lib\\site-packages\\ipykernel\\zmqshell.py\", line 577, in run_cell\n",
      "\n",
      "  File \"c:\\Users\\Zebra\\Desktop\\Projects\\Task1\\.conda\\Lib\\site-packages\\IPython\\core\\interactiveshell.py\", line 3116, in run_cell\n",
      "\n",
      "  File \"c:\\Users\\Zebra\\Desktop\\Projects\\Task1\\.conda\\Lib\\site-packages\\IPython\\core\\interactiveshell.py\", line 3171, in _run_cell\n",
      "\n",
      "  File \"c:\\Users\\Zebra\\Desktop\\Projects\\Task1\\.conda\\Lib\\site-packages\\IPython\\core\\async_helpers.py\", line 128, in _pseudo_sync_runner\n",
      "\n",
      "  File \"c:\\Users\\Zebra\\Desktop\\Projects\\Task1\\.conda\\Lib\\site-packages\\IPython\\core\\interactiveshell.py\", line 3394, in run_cell_async\n",
      "\n",
      "  File \"c:\\Users\\Zebra\\Desktop\\Projects\\Task1\\.conda\\Lib\\site-packages\\IPython\\core\\interactiveshell.py\", line 3639, in run_ast_nodes\n",
      "\n",
      "  File \"c:\\Users\\Zebra\\Desktop\\Projects\\Task1\\.conda\\Lib\\site-packages\\IPython\\core\\interactiveshell.py\", line 3699, in run_code\n",
      "\n",
      "  File \"C:\\Users\\Zebra\\AppData\\Local\\Temp\\ipykernel_5876\\3130305037.py\", line 2, in <module>\n",
      "\n",
      "  File \"c:\\Users\\Zebra\\Desktop\\Projects\\Task1\\classifiers\\mnist_classifier.py\", line 42, in predict\n",
      "\n",
      "  File \"c:\\Users\\Zebra\\Desktop\\Projects\\Task1\\classifiers\\nn.py\", line 52, in predict\n",
      "\n",
      "  File \"c:\\Users\\Zebra\\Desktop\\Projects\\Task1\\.conda\\Lib\\site-packages\\keras\\src\\utils\\traceback_utils.py\", line 117, in error_handler\n",
      "\n",
      "  File \"c:\\Users\\Zebra\\Desktop\\Projects\\Task1\\.conda\\Lib\\site-packages\\keras\\src\\backend\\tensorflow\\trainer.py\", line 566, in predict\n",
      "\n",
      "  File \"c:\\Users\\Zebra\\Desktop\\Projects\\Task1\\.conda\\Lib\\site-packages\\keras\\src\\backend\\tensorflow\\trainer.py\", line 260, in one_step_on_data_distributed\n",
      "\n",
      "  File \"c:\\Users\\Zebra\\Desktop\\Projects\\Task1\\.conda\\Lib\\site-packages\\keras\\src\\backend\\tensorflow\\trainer.py\", line 250, in one_step_on_data\n",
      "\n",
      "  File \"c:\\Users\\Zebra\\Desktop\\Projects\\Task1\\.conda\\Lib\\site-packages\\keras\\src\\backend\\tensorflow\\trainer.py\", line 105, in predict_step\n",
      "\n",
      "  File \"c:\\Users\\Zebra\\Desktop\\Projects\\Task1\\.conda\\Lib\\site-packages\\keras\\src\\utils\\traceback_utils.py\", line 117, in error_handler\n",
      "\n",
      "  File \"c:\\Users\\Zebra\\Desktop\\Projects\\Task1\\.conda\\Lib\\site-packages\\keras\\src\\layers\\layer.py\", line 941, in __call__\n",
      "\n",
      "  File \"c:\\Users\\Zebra\\Desktop\\Projects\\Task1\\.conda\\Lib\\site-packages\\keras\\src\\utils\\traceback_utils.py\", line 117, in error_handler\n",
      "\n",
      "  File \"c:\\Users\\Zebra\\Desktop\\Projects\\Task1\\.conda\\Lib\\site-packages\\keras\\src\\ops\\operation.py\", line 59, in __call__\n",
      "\n",
      "  File \"c:\\Users\\Zebra\\Desktop\\Projects\\Task1\\.conda\\Lib\\site-packages\\keras\\src\\utils\\traceback_utils.py\", line 156, in error_handler\n",
      "\n",
      "  File \"c:\\Users\\Zebra\\Desktop\\Projects\\Task1\\.conda\\Lib\\site-packages\\keras\\src\\models\\sequential.py\", line 220, in call\n",
      "\n",
      "  File \"c:\\Users\\Zebra\\Desktop\\Projects\\Task1\\.conda\\Lib\\site-packages\\keras\\src\\models\\functional.py\", line 183, in call\n",
      "\n",
      "  File \"c:\\Users\\Zebra\\Desktop\\Projects\\Task1\\.conda\\Lib\\site-packages\\keras\\src\\ops\\function.py\", line 206, in _run_through_graph\n",
      "\n",
      "  File \"c:\\Users\\Zebra\\Desktop\\Projects\\Task1\\.conda\\Lib\\site-packages\\keras\\src\\models\\functional.py\", line 644, in call\n",
      "\n",
      "  File \"c:\\Users\\Zebra\\Desktop\\Projects\\Task1\\.conda\\Lib\\site-packages\\keras\\src\\utils\\traceback_utils.py\", line 117, in error_handler\n",
      "\n",
      "  File \"c:\\Users\\Zebra\\Desktop\\Projects\\Task1\\.conda\\Lib\\site-packages\\keras\\src\\layers\\layer.py\", line 941, in __call__\n",
      "\n",
      "  File \"c:\\Users\\Zebra\\Desktop\\Projects\\Task1\\.conda\\Lib\\site-packages\\keras\\src\\utils\\traceback_utils.py\", line 117, in error_handler\n",
      "\n",
      "  File \"c:\\Users\\Zebra\\Desktop\\Projects\\Task1\\.conda\\Lib\\site-packages\\keras\\src\\ops\\operation.py\", line 59, in __call__\n",
      "\n",
      "  File \"c:\\Users\\Zebra\\Desktop\\Projects\\Task1\\.conda\\Lib\\site-packages\\keras\\src\\utils\\traceback_utils.py\", line 156, in error_handler\n",
      "\n",
      "  File \"c:\\Users\\Zebra\\Desktop\\Projects\\Task1\\.conda\\Lib\\site-packages\\keras\\src\\layers\\core\\dense.py\", line 155, in call\n",
      "\n",
      "  File \"c:\\Users\\Zebra\\Desktop\\Projects\\Task1\\.conda\\Lib\\site-packages\\keras\\src\\activations\\activations.py\", line 47, in relu\n",
      "\n",
      "  File \"c:\\Users\\Zebra\\Desktop\\Projects\\Task1\\.conda\\Lib\\site-packages\\keras\\src\\activations\\activations.py\", line 101, in static_call\n",
      "\n",
      "  File \"c:\\Users\\Zebra\\Desktop\\Projects\\Task1\\.conda\\Lib\\site-packages\\keras\\src\\backend\\tensorflow\\nn.py\", line 15, in relu\n",
      "\n",
      "Matrix size-incompatible: In[0]: [10,900], In[1]: [784,128]\n",
      "\t [[{{node sequential_3_1/dense_6_1/Relu}}]] [Op:__inference_one_step_on_data_distributed_103837]\n"
     ]
    }
   ],
   "source": [
    "try:\n",
    "    pred_wrong_shape = nn_classifier.predict(np.random.rand(10,30,30))\n",
    "except Exception as e:\n",
    "    print(\"Wrong shape prediction error:\", e)"
   ]
  },
  {
   "cell_type": "markdown",
   "id": "f5946d20",
   "metadata": {},
   "source": [
    "Convolutional Neural Network: One example"
   ]
  },
  {
   "cell_type": "code",
   "execution_count": 34,
   "id": "40be7c01",
   "metadata": {},
   "outputs": [
    {
     "name": "stdout",
     "output_type": "stream",
     "text": [
      "\u001b[1m1/1\u001b[0m \u001b[32m━━━━━━━━━━━━━━━━━━━━\u001b[0m\u001b[37m\u001b[0m \u001b[1m0s\u001b[0m 64ms/step\n",
      "Single sample prediction: [7]\n"
     ]
    }
   ],
   "source": [
    "pred_one = cnn_classifier.predict(X_test_cnn[0:1])\n",
    "print(\"Single sample prediction:\", pred_one)"
   ]
  },
  {
   "cell_type": "markdown",
   "id": "cb91272e",
   "metadata": {},
   "source": [
    "Convolutional Neural Network: Very small batch (2 samples)"
   ]
  },
  {
   "cell_type": "code",
   "execution_count": 35,
   "id": "7dab346a",
   "metadata": {},
   "outputs": [
    {
     "name": "stdout",
     "output_type": "stream",
     "text": [
      "\u001b[1m1/1\u001b[0m \u001b[32m━━━━━━━━━━━━━━━━━━━━\u001b[0m\u001b[37m\u001b[0m \u001b[1m0s\u001b[0m 52ms/step\n",
      "Two sample batch prediction: [7 2]\n"
     ]
    }
   ],
   "source": [
    "pred_two = cnn_classifier.predict(X_test_cnn[0:2])\n",
    "print(\"Two sample batch prediction:\", pred_two)"
   ]
  }
 ],
 "metadata": {
  "kernelspec": {
   "display_name": ".conda",
   "language": "python",
   "name": "python3"
  },
  "language_info": {
   "codemirror_mode": {
    "name": "ipython",
    "version": 3
   },
   "file_extension": ".py",
   "mimetype": "text/x-python",
   "name": "python",
   "nbconvert_exporter": "python",
   "pygments_lexer": "ipython3",
   "version": "3.11.13"
  }
 },
 "nbformat": 4,
 "nbformat_minor": 5
}
