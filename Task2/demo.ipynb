{
 "cells": [
  {
   "cell_type": "markdown",
   "id": "f27d35cc",
   "metadata": {},
   "source": [
    "Task 2. Named entity recognition + image classification"
   ]
  },
  {
   "cell_type": "code",
   "execution_count": 52,
   "id": "00109f84",
   "metadata": {},
   "outputs": [],
   "source": [
    "import pandas as pd\n",
    "import matplotlib.pyplot as plt \n",
    "import seaborn as sns \n",
    "from pipeline.pipeline import PipelineExecution\n",
    "import os\n",
    "from PIL import Image\n",
    "from PIL import UnidentifiedImageError"
   ]
  },
  {
   "cell_type": "markdown",
   "id": "1ed3f2f1",
   "metadata": {},
   "source": [
    "EDA: Animals10 Dataset"
   ]
  },
  {
   "cell_type": "markdown",
   "id": "1f91fc46",
   "metadata": {},
   "source": [
    "Converting a dataset with images to pandas dataframe"
   ]
  },
  {
   "cell_type": "code",
   "execution_count": 53,
   "id": "f2675aa4",
   "metadata": {},
   "outputs": [
    {
     "data": {
      "text/html": [
       "<div>\n",
       "<style scoped>\n",
       "    .dataframe tbody tr th:only-of-type {\n",
       "        vertical-align: middle;\n",
       "    }\n",
       "\n",
       "    .dataframe tbody tr th {\n",
       "        vertical-align: top;\n",
       "    }\n",
       "\n",
       "    .dataframe thead th {\n",
       "        text-align: right;\n",
       "    }\n",
       "</style>\n",
       "<table border=\"1\" class=\"dataframe\">\n",
       "  <thead>\n",
       "    <tr style=\"text-align: right;\">\n",
       "      <th></th>\n",
       "      <th>class</th>\n",
       "      <th>width</th>\n",
       "      <th>height</th>\n",
       "      <th>mode</th>\n",
       "    </tr>\n",
       "  </thead>\n",
       "  <tbody>\n",
       "    <tr>\n",
       "      <th>0</th>\n",
       "      <td>butterfly</td>\n",
       "      <td>426</td>\n",
       "      <td>640</td>\n",
       "      <td>RGB</td>\n",
       "    </tr>\n",
       "    <tr>\n",
       "      <th>1</th>\n",
       "      <td>butterfly</td>\n",
       "      <td>640</td>\n",
       "      <td>457</td>\n",
       "      <td>RGB</td>\n",
       "    </tr>\n",
       "    <tr>\n",
       "      <th>2</th>\n",
       "      <td>butterfly</td>\n",
       "      <td>426</td>\n",
       "      <td>640</td>\n",
       "      <td>RGB</td>\n",
       "    </tr>\n",
       "    <tr>\n",
       "      <th>3</th>\n",
       "      <td>butterfly</td>\n",
       "      <td>425</td>\n",
       "      <td>640</td>\n",
       "      <td>RGB</td>\n",
       "    </tr>\n",
       "    <tr>\n",
       "      <th>4</th>\n",
       "      <td>butterfly</td>\n",
       "      <td>426</td>\n",
       "      <td>640</td>\n",
       "      <td>RGB</td>\n",
       "    </tr>\n",
       "  </tbody>\n",
       "</table>\n",
       "</div>"
      ],
      "text/plain": [
       "       class  width  height mode\n",
       "0  butterfly    426     640  RGB\n",
       "1  butterfly    640     457  RGB\n",
       "2  butterfly    426     640  RGB\n",
       "3  butterfly    425     640  RGB\n",
       "4  butterfly    426     640  RGB"
      ]
     },
     "execution_count": 53,
     "metadata": {},
     "output_type": "execute_result"
    }
   ],
   "source": [
    "data_dir = 'data'\n",
    "skip_folders = ['test', 'train', 'val']\n",
    "data = []\n",
    "\n",
    "for cls in os.listdir(data_dir):\n",
    "    folder = os.path.join(data_dir, cls)\n",
    "    #Skip system folders or unnecessary distributions\n",
    "    if not os.path.isdir(folder) or cls in skip_folders:\n",
    "        continue\n",
    "\n",
    "    for file in os.listdir(folder):\n",
    "        img_path = os.path.join(folder, file)\n",
    "        #Verifying that this is really an image\n",
    "        if not file.lower().endswith(('.jpg', '.jpeg', '.png')):\n",
    "            continue\n",
    "\n",
    "        with Image.open(img_path) as img:\n",
    "            data.append({\n",
    "                'class': cls,\n",
    "                'width': img.width,\n",
    "                'height': img.height,\n",
    "                'mode': img.mode\n",
    "            })\n",
    "\n",
    "df = pd.DataFrame(data)\n",
    "df.head()"
   ]
  },
  {
   "cell_type": "markdown",
   "id": "6e737e6a",
   "metadata": {},
   "source": [
    "Dataset Info"
   ]
  },
  {
   "cell_type": "code",
   "execution_count": 54,
   "id": "99a0860b",
   "metadata": {},
   "outputs": [
    {
     "name": "stdout",
     "output_type": "stream",
     "text": [
      "<class 'pandas.core.frame.DataFrame'>\n",
      "RangeIndex: 26179 entries, 0 to 26178\n",
      "Data columns (total 4 columns):\n",
      " #   Column  Non-Null Count  Dtype \n",
      "---  ------  --------------  ----- \n",
      " 0   class   26179 non-null  object\n",
      " 1   width   26179 non-null  int64 \n",
      " 2   height  26179 non-null  int64 \n",
      " 3   mode    26179 non-null  object\n",
      "dtypes: int64(2), object(2)\n",
      "memory usage: 818.2+ KB\n"
     ]
    }
   ],
   "source": [
    "df.info()"
   ]
  },
  {
   "cell_type": "markdown",
   "id": "6f7ec440",
   "metadata": {},
   "source": [
    "Dataset contains 26179 images"
   ]
  },
  {
   "cell_type": "markdown",
   "id": "24b1d545",
   "metadata": {},
   "source": [
    "Dataset Statistics"
   ]
  },
  {
   "cell_type": "code",
   "execution_count": 55,
   "id": "4861d5e0",
   "metadata": {},
   "outputs": [
    {
     "data": {
      "text/html": [
       "<div>\n",
       "<style scoped>\n",
       "    .dataframe tbody tr th:only-of-type {\n",
       "        vertical-align: middle;\n",
       "    }\n",
       "\n",
       "    .dataframe tbody tr th {\n",
       "        vertical-align: top;\n",
       "    }\n",
       "\n",
       "    .dataframe thead th {\n",
       "        text-align: right;\n",
       "    }\n",
       "</style>\n",
       "<table border=\"1\" class=\"dataframe\">\n",
       "  <thead>\n",
       "    <tr style=\"text-align: right;\">\n",
       "      <th></th>\n",
       "      <th>width</th>\n",
       "      <th>height</th>\n",
       "    </tr>\n",
       "  </thead>\n",
       "  <tbody>\n",
       "    <tr>\n",
       "      <th>count</th>\n",
       "      <td>26179.000000</td>\n",
       "      <td>26179.000000</td>\n",
       "    </tr>\n",
       "    <tr>\n",
       "      <th>mean</th>\n",
       "      <td>320.038810</td>\n",
       "      <td>252.630162</td>\n",
       "    </tr>\n",
       "    <tr>\n",
       "      <th>std</th>\n",
       "      <td>196.935326</td>\n",
       "      <td>148.403298</td>\n",
       "    </tr>\n",
       "    <tr>\n",
       "      <th>min</th>\n",
       "      <td>60.000000</td>\n",
       "      <td>57.000000</td>\n",
       "    </tr>\n",
       "    <tr>\n",
       "      <th>25%</th>\n",
       "      <td>300.000000</td>\n",
       "      <td>200.000000</td>\n",
       "    </tr>\n",
       "    <tr>\n",
       "      <th>50%</th>\n",
       "      <td>300.000000</td>\n",
       "      <td>225.000000</td>\n",
       "    </tr>\n",
       "    <tr>\n",
       "      <th>75%</th>\n",
       "      <td>300.000000</td>\n",
       "      <td>300.000000</td>\n",
       "    </tr>\n",
       "    <tr>\n",
       "      <th>max</th>\n",
       "      <td>6720.000000</td>\n",
       "      <td>6000.000000</td>\n",
       "    </tr>\n",
       "  </tbody>\n",
       "</table>\n",
       "</div>"
      ],
      "text/plain": [
       "              width        height\n",
       "count  26179.000000  26179.000000\n",
       "mean     320.038810    252.630162\n",
       "std      196.935326    148.403298\n",
       "min       60.000000     57.000000\n",
       "25%      300.000000    200.000000\n",
       "50%      300.000000    225.000000\n",
       "75%      300.000000    300.000000\n",
       "max     6720.000000   6000.000000"
      ]
     },
     "execution_count": 55,
     "metadata": {},
     "output_type": "execute_result"
    }
   ],
   "source": [
    "df.describe()"
   ]
  },
  {
   "cell_type": "markdown",
   "id": "d0e47b57",
   "metadata": {},
   "source": [
    "During training, it will be necessary to bring all images to the same size so that this does not affect the quality of training"
   ]
  },
  {
   "cell_type": "markdown",
   "id": "dee5af20",
   "metadata": {},
   "source": [
    "Class distribution"
   ]
  },
  {
   "cell_type": "code",
   "execution_count": 56,
   "id": "5e44c923",
   "metadata": {},
   "outputs": [
    {
     "data": {
      "image/png": "[encoded data removed]",
      "text/plain": [
       "<Figure size 640x480 with 1 Axes>"
      ]
     },
     "metadata": {},
     "output_type": "display_data"
    }
   ],
   "source": [
    "class_cout = df['class'].value_counts()\n",
    "sns.barplot(class_cout)\n",
    "plt.title(\"Number of images per class\")\n",
    "plt.tight_layout()"
   ]
  },
  {
   "cell_type": "markdown",
   "id": "5c154e3e",
   "metadata": {},
   "source": [
    "The distribution is a bit uneven, will need to pay attention to this when learning"
   ]
  },
  {
   "cell_type": "markdown",
   "id": "a537908b",
   "metadata": {},
   "source": [
    "Check data mode"
   ]
  },
  {
   "cell_type": "code",
   "execution_count": 57,
   "id": "bbd114cf",
   "metadata": {},
   "outputs": [
    {
     "data": {
      "text/plain": [
       "array(['RGB', 'RGBA', 'L', 'CMYK'], dtype=object)"
      ]
     },
     "execution_count": 57,
     "metadata": {},
     "output_type": "execute_result"
    }
   ],
   "source": [
    "data_mode = pd.unique(df['mode'])\n",
    "data_mode"
   ]
  },
  {
   "cell_type": "code",
   "execution_count": 58,
   "id": "702578d1",
   "metadata": {},
   "outputs": [
    {
     "data": {
      "text/plain": [
       "mode\n",
       "RGB     26128\n",
       "RGBA       49\n",
       "L           1\n",
       "CMYK        1\n",
       "Name: count, dtype: int64"
      ]
     },
     "execution_count": 58,
     "metadata": {},
     "output_type": "execute_result"
    }
   ],
   "source": [
    "df['mode'].value_counts()"
   ]
  },
  {
   "cell_type": "markdown",
   "id": "86f1911e",
   "metadata": {},
   "source": [
    "Note: Using \"tf.keras.utils.image_dataset_from_directory(...)\" automatically converts images to RGB"
   ]
  },
  {
   "cell_type": "markdown",
   "id": "dbea271a",
   "metadata": {},
   "source": [
    "Check for corrupted images"
   ]
  },
  {
   "cell_type": "code",
   "execution_count": 59,
   "id": "4cd9a418",
   "metadata": {},
   "outputs": [
    {
     "name": "stdout",
     "output_type": "stream",
     "text": [
      "Broken files []\n"
     ]
    }
   ],
   "source": [
    "broken = []\n",
    "\n",
    "for cls in os.listdir(data_dir):\n",
    "    folder = os.path.join(data_dir, cls)\n",
    "    if not os.path.isdir(folder) or cls in skip_folders:\n",
    "        continue\n",
    "    for file in os.listdir(folder):\n",
    "        img_path = os.path.join(folder, file)\n",
    "        try:\n",
    "            Image.open(img_path).verify()\n",
    "        except UnidentifiedImageError:\n",
    "            broken.append(img_path)\n",
    "\n",
    "print('Broken files', broken)"
   ]
  },
  {
   "cell_type": "markdown",
   "id": "ae8caecf",
   "metadata": {},
   "source": [
    "No broken files detected"
   ]
  },
  {
   "cell_type": "markdown",
   "id": "906ec0b0",
   "metadata": {},
   "source": [
    "Initialize Pipeline"
   ]
  },
  {
   "cell_type": "code",
   "execution_count": 60,
   "id": "5f9101bf",
   "metadata": {},
   "outputs": [
    {
     "name": "stdout",
     "output_type": "stream",
     "text": [
      "Found 18322 files belonging to 10 classes.\n",
      "\u001b[1m1/1\u001b[0m \u001b[32m━━━━━━━━━━━━━━━━━━━━\u001b[0m\u001b[37m\u001b[0m \u001b[1m2s\u001b[0m 2s/step\n",
      "Text: I found a spider\n",
      "Image: data/val/spider/e83cb3062bf1003ed1584d05fb1d4e9fe777ead218ac104497f5c97ca5edb3bd_640.jpg\n",
      "Match? Yes\n",
      "\n",
      "\u001b[1m1/1\u001b[0m \u001b[32m━━━━━━━━━━━━━━━━━━━━\u001b[0m\u001b[37m\u001b[0m \u001b[1m0s\u001b[0m 64ms/step\n",
      "Text: There is a horse in the picture.\n",
      "Image: data/val/horse/OIP-_-5DDAGLz1A9FyrB0FLdgwHaFw.jpeg\n",
      "Match? Yes\n",
      "\n",
      "\u001b[1m1/1\u001b[0m \u001b[32m━━━━━━━━━━━━━━━━━━━━\u001b[0m\u001b[37m\u001b[0m \u001b[1m0s\u001b[0m 56ms/step\n",
      "Text: This is a new dog\n",
      "Image: data/val/cow/OIP-_vfO5oTfXbYTmQa3fLqygwHaEK.jpeg\n",
      "Match? No\n",
      "\n"
     ]
    }
   ],
   "source": [
    "detector = PipelineExecution()\n",
    "sample_tests = [\n",
    "    {\"text\": \"I found a spider\", \"img_path\": \"data/val/spider/e83cb3062bf1003ed1584d05fb1d4e9fe777ead218ac104497f5c97ca5edb3bd_640.jpg\"},\n",
    "    {\"text\": \"There is a horse in the picture.\", \"img_path\": \"data/val/horse/OIP-_-5DDAGLz1A9FyrB0FLdgwHaFw.jpeg\"},\n",
    "    {\"text\": \"This is a new dog\", \"img_path\": \"data/val/cow/OIP-_vfO5oTfXbYTmQa3fLqygwHaEK.jpeg\"}\n",
    "]\n",
    "\n",
    "for test in sample_tests:\n",
    "    prediction = detector.is_true(test['text'], test['img_path'])\n",
    "    print(f\"Text: {test['text']}\")\n",
    "    print(f\"Image: {test['img_path']}\")\n",
    "    print(f\"Match? {'Yes' if prediction == 1 else 'No'}\\n\")\n"
   ]
  },
  {
   "cell_type": "markdown",
   "id": "28876900",
   "metadata": {},
   "source": [
    "Edge cases"
   ]
  },
  {
   "cell_type": "code",
   "execution_count": 61,
   "id": "20b8ce82",
   "metadata": {},
   "outputs": [],
   "source": [
    "tests = [\n",
    "    #Text without mentioning the animal    \n",
    "    {\"text\": \"The weather is good\", \"img_path\": \"data/val/cat/1940.jpeg\"},\n",
    "    #Synonyms / other forms\n",
    "    {\"text\": \"There is a kitten in the room\", \"img_path\": \"data/val/cat/1700.jpeg\"},\n",
    "    #Multiple mentions\n",
    "    {\"text\": \"A cat and a dog are playing\", \"img_path\": \"data/val/dog/OIP-_k_31g7jp-n1WA3oUrZnUQHaF0.jpeg\"},\n",
    "    #Spelling errors\n",
    "    {\"text\": \"I saw an elefant\", \"img_path\": \"data/val/elephant/OIP-1lvmWJyPLIuHCAHXUZ_MFQHaE8.jpeg\"},\n",
    "    #Empty text\n",
    "    {\"text\": \"\", \"img_path\": \"data/val/squirrel/OIP-_GGhpT1ecnjpxh5w86ainwHaE7.jpeg\"},\n",
    "    #Picture without animal\n",
    "    {\"text\": \"There is a cow\", \"img_path\": \"data/val/edge_cases/no_animals.jpg\"},    \n",
    "    #Picture with several animals\n",
    "    {\"text\": \"Cat and dog in the yard\", \"img_path\": \"data/val/edge_cases/cat-and-dog-together.jpg\"},    \n",
    "    #Class is missing from the dataset\n",
    "    {\"text\": \"I see a panda\", \"img_path\": \"data/val/edge_cases/panda.jpg\"}\n",
    "    \n",
    "]"
   ]
  },
  {
   "cell_type": "markdown",
   "id": "94bae891",
   "metadata": {},
   "source": [
    "Run all edge cases through the pipeline"
   ]
  },
  {
   "cell_type": "code",
   "execution_count": 62,
   "id": "5e218c67",
   "metadata": {},
   "outputs": [
    {
     "name": "stdout",
     "output_type": "stream",
     "text": [
      "\u001b[1m1/1\u001b[0m \u001b[32m━━━━━━━━━━━━━━━━━━━━\u001b[0m\u001b[37m\u001b[0m \u001b[1m0s\u001b[0m 58ms/step\n",
      "Text: The weather is good\n",
      "Image path: data/val/cat/1940.jpeg\n",
      "Match? No\n",
      "\u001b[1m1/1\u001b[0m \u001b[32m━━━━━━━━━━━━━━━━━━━━\u001b[0m\u001b[37m\u001b[0m \u001b[1m0s\u001b[0m 84ms/step\n",
      "Text: There is a kitten in the room\n",
      "Image path: data/val/cat/1700.jpeg\n",
      "Match? No\n",
      "\u001b[1m1/1\u001b[0m \u001b[32m━━━━━━━━━━━━━━━━━━━━\u001b[0m\u001b[37m\u001b[0m \u001b[1m0s\u001b[0m 77ms/step\n",
      "Text: A cat and a dog are playing\n",
      "Image path: data/val/dog/OIP-_k_31g7jp-n1WA3oUrZnUQHaF0.jpeg\n",
      "Match? No\n",
      "\u001b[1m1/1\u001b[0m \u001b[32m━━━━━━━━━━━━━━━━━━━━\u001b[0m\u001b[37m\u001b[0m \u001b[1m0s\u001b[0m 72ms/step\n",
      "Text: I saw an elefant\n",
      "Image path: data/val/elephant/OIP-1lvmWJyPLIuHCAHXUZ_MFQHaE8.jpeg\n",
      "Match? No\n",
      "\u001b[1m1/1\u001b[0m \u001b[32m━━━━━━━━━━━━━━━━━━━━\u001b[0m\u001b[37m\u001b[0m \u001b[1m0s\u001b[0m 67ms/step\n",
      "Text: \n",
      "Image path: data/val/squirrel/OIP-_GGhpT1ecnjpxh5w86ainwHaE7.jpeg\n",
      "Match? No\n",
      "\u001b[1m1/1\u001b[0m \u001b[32m━━━━━━━━━━━━━━━━━━━━\u001b[0m\u001b[37m\u001b[0m \u001b[1m0s\u001b[0m 79ms/step\n",
      "Text: There is a cow\n",
      "Image path: data/val/edge_cases/no_animals.jpg\n",
      "Match? No\n",
      "\u001b[1m1/1\u001b[0m \u001b[32m━━━━━━━━━━━━━━━━━━━━\u001b[0m\u001b[37m\u001b[0m \u001b[1m0s\u001b[0m 81ms/step\n",
      "Text: Cat and dog in the yard\n",
      "Image path: data/val/edge_cases/cat-and-dog-together.jpg\n",
      "Match? No\n",
      "\u001b[1m1/1\u001b[0m \u001b[32m━━━━━━━━━━━━━━━━━━━━\u001b[0m\u001b[37m\u001b[0m \u001b[1m0s\u001b[0m 64ms/step\n",
      "Text: I see a panda\n",
      "Image path: data/val/edge_cases/panda.jpg\n",
      "Match? No\n"
     ]
    }
   ],
   "source": [
    "for test in tests:\n",
    "    prediction = detector.is_true(test['text'], test['img_path'])\n",
    "    print(f\"Text: {test['text']}\")\n",
    "    print(f\"Image path: {test['img_path']}\")\n",
    "    print(f\"Match? {'Yes' if prediction == 1 else 'No'}\")"
   ]
  },
  {
   "cell_type": "markdown",
   "id": "312be9e7",
   "metadata": {},
   "source": [
    "Current pipeline handles only single animals per image.\n",
    "Plurals are handled partially; future improvements may include:\n",
    "A small synonyms dictionary for text preprocessing\n",
    "Multiple animal detection in a single image\n",
    "More robust text matching (typos, lemmatization)"
   ]
  }
 ],
 "metadata": {
  "kernelspec": {
   "display_name": ".conda",
   "language": "python",
   "name": "python3"
  },
  "language_info": {
   "codemirror_mode": {
    "name": "ipython",
    "version": 3
   },
   "file_extension": ".py",
   "mimetype": "text/x-python",
   "name": "python",
   "nbconvert_exporter": "python",
   "pygments_lexer": "ipython3",
   "version": "3.11.13"
  }
 },
 "nbformat": 4,
 "nbformat_minor": 5
}
